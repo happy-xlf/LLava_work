{
 "cells": [
  {
   "cell_type": "code",
   "execution_count": 1,
   "metadata": {},
   "outputs": [
    {
     "name": "stderr",
     "output_type": "stream",
     "text": [
      "/root/autodl-tmp/conda/envs/llama_train/lib/python3.10/site-packages/tqdm/auto.py:21: TqdmWarning: IProgress not found. Please update jupyter and ipywidgets. See https://ipywidgets.readthedocs.io/en/stable/user_install.html\n",
      "  from .autonotebook import tqdm as notebook_tqdm\n"
     ]
    }
   ],
   "source": [
    "from transformers import (\n",
    "    LlavaForConditionalGeneration,\n",
    "    LlavaConfig\n",
    ")"
   ]
  },
  {
   "cell_type": "code",
   "execution_count": 2,
   "metadata": {},
   "outputs": [],
   "source": [
    "clip_model_name_or_path = (\n",
    "    \"/root/autodl-tmp/Models/clip-vit-large-patch14-336\"\n",
    ")\n",
    "qwen_model_name_or_path = \"/root/autodl-tmp/Models/Qwen1.5-4B-Chat\""
   ]
  },
  {
   "cell_type": "code",
   "execution_count": 3,
   "metadata": {},
   "outputs": [
    {
     "name": "stderr",
     "output_type": "stream",
     "text": [
      "Loading checkpoint shards: 100%|██████████| 2/2 [00:03<00:00,  1.77s/it]\n"
     ]
    }
   ],
   "source": [
    "from transformers import AutoModel, AutoModelForCausalLM, AutoTokenizer, AutoProcessor\n",
    "\n",
    "clip_model = AutoModel.from_pretrained(clip_model_name_or_path, device_map=\"cuda:0\")\n",
    "llm_model = AutoModelForCausalLM.from_pretrained(\n",
    "    qwen_model_name_or_path, device_map=\"cuda:0\"\n",
    ")"
   ]
  },
  {
   "cell_type": "code",
   "execution_count": 4,
   "metadata": {},
   "outputs": [
    {
     "name": "stderr",
     "output_type": "stream",
     "text": [
      "Special tokens have been added in the vocabulary, make sure the associated word embeddings are fine-tuned or trained.\n"
     ]
    },
    {
     "data": {
      "text/plain": [
       "[151646]"
      ]
     },
     "execution_count": 4,
     "metadata": {},
     "output_type": "execute_result"
    }
   ],
   "source": [
    "llm_tokenizer = AutoTokenizer.from_pretrained(qwen_model_name_or_path)\n",
    "llm_tokenizer.encode(\"<image>\")"
   ]
  },
  {
   "cell_type": "code",
   "execution_count": 5,
   "metadata": {},
   "outputs": [],
   "source": [
    "from transformers import (\n",
    "    LlavaForConditionalGeneration,\n",
    "    LlavaConfig\n",
    ")"
   ]
  },
  {
   "cell_type": "code",
   "execution_count": 6,
   "metadata": {},
   "outputs": [],
   "source": [
    "# Initializing a CLIP-vision config\n",
    "vision_config = clip_model.vision_model.config\n",
    "\n",
    "# Initializing a Llama config\n",
    "text_config = llm_model.config\n",
    "\n",
    "# Initializing a Llava llava-1.5-7b style configuration\n",
    "configuration = LlavaConfig(vision_config, text_config)\n",
    "\n",
    "# Initializing a model from the llava-1.5-7b style configuration\n",
    "model = LlavaForConditionalGeneration(configuration)"
   ]
  },
  {
   "cell_type": "code",
   "execution_count": 7,
   "metadata": {},
   "outputs": [
    {
     "data": {
      "text/plain": [
       "CLIPVisionTransformer(\n",
       "  (embeddings): CLIPVisionEmbeddings(\n",
       "    (patch_embedding): Conv2d(3, 1024, kernel_size=(14, 14), stride=(14, 14), bias=False)\n",
       "    (position_embedding): Embedding(577, 1024)\n",
       "  )\n",
       "  (pre_layrnorm): LayerNorm((1024,), eps=1e-05, elementwise_affine=True)\n",
       "  (encoder): CLIPEncoder(\n",
       "    (layers): ModuleList(\n",
       "      (0-23): 24 x CLIPEncoderLayer(\n",
       "        (self_attn): CLIPAttention(\n",
       "          (k_proj): Linear(in_features=1024, out_features=1024, bias=True)\n",
       "          (v_proj): Linear(in_features=1024, out_features=1024, bias=True)\n",
       "          (q_proj): Linear(in_features=1024, out_features=1024, bias=True)\n",
       "          (out_proj): Linear(in_features=1024, out_features=1024, bias=True)\n",
       "        )\n",
       "        (layer_norm1): LayerNorm((1024,), eps=1e-05, elementwise_affine=True)\n",
       "        (mlp): CLIPMLP(\n",
       "          (activation_fn): QuickGELUActivation()\n",
       "          (fc1): Linear(in_features=1024, out_features=4096, bias=True)\n",
       "          (fc2): Linear(in_features=4096, out_features=1024, bias=True)\n",
       "        )\n",
       "        (layer_norm2): LayerNorm((1024,), eps=1e-05, elementwise_affine=True)\n",
       "      )\n",
       "    )\n",
       "  )\n",
       "  (post_layernorm): LayerNorm((1024,), eps=1e-05, elementwise_affine=True)\n",
       ")"
      ]
     },
     "execution_count": 7,
     "metadata": {},
     "output_type": "execute_result"
    }
   ],
   "source": [
    "model.vision_tower.vision_model"
   ]
  },
  {
   "cell_type": "code",
   "execution_count": 8,
   "metadata": {},
   "outputs": [
    {
     "data": {
      "text/plain": [
       "CLIPVisionTransformer(\n",
       "  (embeddings): CLIPVisionEmbeddings(\n",
       "    (patch_embedding): Conv2d(3, 1024, kernel_size=(14, 14), stride=(14, 14), bias=False)\n",
       "    (position_embedding): Embedding(577, 1024)\n",
       "  )\n",
       "  (pre_layrnorm): LayerNorm((1024,), eps=1e-05, elementwise_affine=True)\n",
       "  (encoder): CLIPEncoder(\n",
       "    (layers): ModuleList(\n",
       "      (0-23): 24 x CLIPEncoderLayer(\n",
       "        (self_attn): CLIPAttention(\n",
       "          (k_proj): Linear(in_features=1024, out_features=1024, bias=True)\n",
       "          (v_proj): Linear(in_features=1024, out_features=1024, bias=True)\n",
       "          (q_proj): Linear(in_features=1024, out_features=1024, bias=True)\n",
       "          (out_proj): Linear(in_features=1024, out_features=1024, bias=True)\n",
       "        )\n",
       "        (layer_norm1): LayerNorm((1024,), eps=1e-05, elementwise_affine=True)\n",
       "        (mlp): CLIPMLP(\n",
       "          (activation_fn): QuickGELUActivation()\n",
       "          (fc1): Linear(in_features=1024, out_features=4096, bias=True)\n",
       "          (fc2): Linear(in_features=4096, out_features=1024, bias=True)\n",
       "        )\n",
       "        (layer_norm2): LayerNorm((1024,), eps=1e-05, elementwise_affine=True)\n",
       "      )\n",
       "    )\n",
       "  )\n",
       "  (post_layernorm): LayerNorm((1024,), eps=1e-05, elementwise_affine=True)\n",
       ")"
      ]
     },
     "execution_count": 8,
     "metadata": {},
     "output_type": "execute_result"
    }
   ],
   "source": [
    "clip_model.vision_model"
   ]
  },
  {
   "cell_type": "code",
   "execution_count": 9,
   "metadata": {},
   "outputs": [],
   "source": [
    "model.vision_tower.vision_model = clip_model.vision_model"
   ]
  },
  {
   "cell_type": "code",
   "execution_count": 10,
   "metadata": {},
   "outputs": [],
   "source": [
    "model.language_model = llm_model"
   ]
  },
  {
   "cell_type": "code",
   "execution_count": 11,
   "metadata": {},
   "outputs": [
    {
     "data": {
      "text/plain": [
       "tensor([[ 4.7302e-03, -6.2866e-03],\n",
       "        [-5.9814e-03,  1.1841e-02],\n",
       "        [-5.8899e-03,  1.5747e-02],\n",
       "        ...,\n",
       "        [-3.3379e-05,  8.5831e-06],\n",
       "        [-3.2425e-05,  7.1824e-06],\n",
       "        [-3.1948e-05, -2.9206e-06]], device='cuda:0')"
      ]
     },
     "execution_count": 11,
     "metadata": {},
     "output_type": "execute_result"
    }
   ],
   "source": [
    "llm_model.model.embed_tokens.weight.data[:, :2]"
   ]
  },
  {
   "cell_type": "code",
   "execution_count": 12,
   "metadata": {},
   "outputs": [
    {
     "data": {
      "text/plain": [
       "tensor([[ 4.7302e-03, -6.2866e-03],\n",
       "        [-5.9814e-03,  1.1841e-02],\n",
       "        [-5.8899e-03,  1.5747e-02],\n",
       "        ...,\n",
       "        [-3.3379e-05,  8.5831e-06],\n",
       "        [-3.2425e-05,  7.1824e-06],\n",
       "        [-3.1948e-05, -2.9206e-06]], device='cuda:0')"
      ]
     },
     "execution_count": 12,
     "metadata": {},
     "output_type": "execute_result"
    }
   ],
   "source": [
    "model.language_model.model.embed_tokens.weight.data[:, :2]"
   ]
  },
  {
   "cell_type": "code",
   "execution_count": 13,
   "metadata": {},
   "outputs": [],
   "source": [
    "model.config.pad_token_id"
   ]
  },
  {
   "cell_type": "code",
   "execution_count": 14,
   "metadata": {},
   "outputs": [
    {
     "data": {
      "text/plain": [
       "151643"
      ]
     },
     "execution_count": 14,
     "metadata": {},
     "output_type": "execute_result"
    }
   ],
   "source": [
    "model.config.pad_token_id = llm_tokenizer.pad_token_id\n",
    "model.config.pad_token_id"
   ]
  },
  {
   "cell_type": "code",
   "execution_count": 15,
   "metadata": {},
   "outputs": [
    {
     "data": {
      "text/plain": [
       "32000"
      ]
     },
     "execution_count": 15,
     "metadata": {},
     "output_type": "execute_result"
    }
   ],
   "source": [
    "model.config.image_token_index"
   ]
  },
  {
   "cell_type": "code",
   "execution_count": 16,
   "metadata": {},
   "outputs": [
    {
     "data": {
      "text/plain": [
       "151646"
      ]
     },
     "execution_count": 16,
     "metadata": {},
     "output_type": "execute_result"
    }
   ],
   "source": [
    "llm_tokenizer.encode(\"<image>\")[0]"
   ]
  },
  {
   "cell_type": "code",
   "execution_count": 17,
   "metadata": {},
   "outputs": [
    {
     "data": {
      "text/plain": [
       "151646"
      ]
     },
     "execution_count": 17,
     "metadata": {},
     "output_type": "execute_result"
    }
   ],
   "source": [
    "model.config.image_token_index = llm_tokenizer.encode(\"<image>\")[0]\n",
    "model.config.image_token_index"
   ]
  },
  {
   "cell_type": "code",
   "execution_count": 18,
   "metadata": {},
   "outputs": [
    {
     "name": "stdout",
     "output_type": "stream",
     "text": [
      "[2024-07-06 21:39:35,115] [INFO] [real_accelerator.py:203:get_accelerator] Setting ds_accelerator to cuda (auto detect)\n",
      "\u001b[93m [WARNING] \u001b[0m async_io requires the dev libaio .so object and headers but these were not found.\n",
      "\u001b[93m [WARNING] \u001b[0m async_io: please install the libaio-dev package with apt\n",
      "\u001b[93m [WARNING] \u001b[0m If libaio is already installed (perhaps from source), try setting the CFLAGS and LDFLAGS environment variables to where it can be found.\n",
      "\u001b[93m [WARNING] \u001b[0m Please specify the CUTLASS repo directory as environment variable $CUTLASS_PATH\n"
     ]
    },
    {
     "name": "stderr",
     "output_type": "stream",
     "text": [
      "/root/autodl-tmp/conda/envs/llama_train/compiler_compat/ld: cannot find -laio: No such file or directory\n",
      "collect2: error: ld returned 1 exit status\n"
     ]
    },
    {
     "name": "stdout",
     "output_type": "stream",
     "text": [
      "\u001b[93m [WARNING] \u001b[0m sparse_attn requires a torch version >= 1.5 and < 2.0 but detected 2.3\n",
      "\u001b[93m [WARNING] \u001b[0m using untested triton version (2.3.0), only 1.0.0 is known to be compatible\n"
     ]
    }
   ],
   "source": [
    "model.save_pretrained(\"show_model/model001\")"
   ]
  },
  {
   "cell_type": "code",
   "execution_count": 19,
   "metadata": {},
   "outputs": [
    {
     "data": {
      "text/plain": [
       "('show_model/model001/tokenizer_config.json',\n",
       " 'show_model/model001/special_tokens_map.json',\n",
       " 'show_model/model001/vocab.json',\n",
       " 'show_model/model001/merges.txt',\n",
       " 'show_model/model001/added_tokens.json',\n",
       " 'show_model/model001/tokenizer.json')"
      ]
     },
     "execution_count": 19,
     "metadata": {},
     "output_type": "execute_result"
    }
   ],
   "source": [
    "llm_tokenizer.save_pretrained(\"show_model/model001\")"
   ]
  },
  {
   "cell_type": "code",
   "execution_count": 20,
   "metadata": {},
   "outputs": [
    {
     "data": {
      "text/plain": [
       "[]"
      ]
     },
     "execution_count": 20,
     "metadata": {},
     "output_type": "execute_result"
    }
   ],
   "source": [
    "autoprocessor = AutoProcessor.from_pretrained(clip_model_name_or_path)\n",
    "autoprocessor.save_pretrained(\"show_model/model002\")"
   ]
  },
  {
   "cell_type": "markdown",
   "metadata": {},
   "source": [
    "开始测试效果"
   ]
  },
  {
   "cell_type": "code",
   "execution_count": 1,
   "metadata": {},
   "outputs": [
    {
     "name": "stderr",
     "output_type": "stream",
     "text": [
      "/root/autodl-tmp/conda/envs/llama_train/lib/python3.10/site-packages/tqdm/auto.py:21: TqdmWarning: IProgress not found. Please update jupyter and ipywidgets. See https://ipywidgets.readthedocs.io/en/stable/user_install.html\n",
      "  from .autonotebook import tqdm as notebook_tqdm\n",
      "Special tokens have been added in the vocabulary, make sure the associated word embeddings are fine-tuned or trained.\n",
      "Loading checkpoint shards: 100%|██████████| 4/4 [00:04<00:00,  1.06s/it]\n"
     ]
    }
   ],
   "source": [
    "from transformers import LlavaProcessor, LlavaForConditionalGeneration\n",
    "import torch\n",
    "\n",
    "\n",
    "model_name_or_path = \"show_model/model001\"  # \n",
    "# model_name_or_path = \"test_model_copy/model001\"  #\n",
    "\n",
    "llava_processor = LlavaProcessor.from_pretrained(model_name_or_path)\n",
    "model = LlavaForConditionalGeneration.from_pretrained(\n",
    "    model_name_or_path, device_map=\"cuda:0\", torch_dtype=torch.bfloat16\n",
    ")"
   ]
  },
  {
   "cell_type": "code",
   "execution_count": 7,
   "metadata": {},
   "outputs": [],
   "source": [
    "from PIL import Image\n",
    "\n",
    "prompt_text = \"<image>\\nWhat are these?\"\n",
    "\n",
    "\n",
    "messages = [\n",
    "    {\"role\": \"system\", \"content\": \"You are a helpful assistant.\"},\n",
    "    {\"role\": \"user\", \"content\": prompt_text},\n",
    "]\n",
    "prompt = llava_processor.tokenizer.apply_chat_template(\n",
    "    messages, tokenize=False, add_generation_prompt=True\n",
    ")\n",
    "\n",
    "\n",
    "image_path = \"000000039769.jpg\"\n",
    "image = Image.open(image_path)\n",
    "\n",
    "\n",
    "inputs = llava_processor(text=prompt, images=image, return_tensors=\"pt\")\n",
    "\n",
    "# for tk in inputs.keys():\n",
    "#     inputs[tk] = inputs[tk].to(model.device)\n",
    "# generate_ids = model.generate(**inputs, max_new_tokens=20)\n",
    "# gen_text = llava_processor.batch_decode(\n",
    "#     generate_ids, skip_special_tokens=False, clean_up_tokenization_spaces=False\n",
    "# )[0]\n",
    "\n",
    "# print(gen_text)"
   ]
  },
  {
   "cell_type": "code",
   "execution_count": 10,
   "metadata": {},
   "outputs": [
    {
     "data": {
      "text/plain": [
       "'<|im_start|>system\\nYou are a helpful assistant.<|im_end|>\\n<|im_start|>user\\nDescribe the image concisely.\\n<image><|im_end|>\\n<|im_start|>assistant\\n'"
      ]
     },
     "execution_count": 10,
     "metadata": {},
     "output_type": "execute_result"
    }
   ],
   "source": [
    "# inputs\n",
    "llava_processor.decode([151644,   8948,    198,   2610,    525,    264,  10950,  17847,     13,\n",
    "         151645,    198, 151644,    872,    198,  74785,    279,   2168,   3529,\n",
    "            285,    974,    624, 151646, 151645,    198, 151644,  77091,    198], skip_special_tokens=False)"
   ]
  },
  {
   "cell_type": "code",
   "execution_count": 5,
   "metadata": {},
   "outputs": [
    {
     "data": {
      "text/plain": [
       "{'input_ids': tensor([[151644,   8948,    198,   2610,    525,    264,  10950,  17847,     13,\n",
       "         151645,    198, 151644,    872,    198, 151646,    198,   3838,    525,\n",
       "           1493,     30, 151645,    198, 151644,  77091,    198]],\n",
       "       device='cuda:0'), 'attention_mask': tensor([[1, 1, 1, 1, 1, 1, 1, 1, 1, 1, 1, 1, 1, 1, 1, 1, 1, 1, 1, 1, 1, 1, 1, 1,\n",
       "         1]], device='cuda:0'), 'pixel_values': tensor([[[[ 0.5435,  0.6457,  0.5581,  ...,  0.0909,  0.0033, -0.0696],\n",
       "          [ 0.5435,  0.6165,  0.5435,  ...,  0.1201,  0.0179,  0.0617],\n",
       "          [ 0.5581,  0.5581,  0.6603,  ...,  0.0909,  0.0763,  0.0617],\n",
       "          ...,\n",
       "          [ 1.8281,  1.8865,  1.8281,  ...,  1.4048,  1.4486,  1.5654],\n",
       "          [ 1.8573,  1.9011,  1.8719,  ...,  1.4778,  1.4048,  1.4924],\n",
       "          [ 1.8719,  1.9011,  1.9011,  ...,  1.4048,  1.2150,  1.4778]],\n",
       "\n",
       "         [[-1.3619, -1.2718, -1.3769,  ..., -1.4219, -1.4820, -1.5120],\n",
       "          [-1.3319, -1.2418, -1.3469,  ..., -1.4219, -1.4820, -1.4219],\n",
       "          [-1.2418, -1.2869, -1.1968,  ..., -1.4669, -1.4669, -1.4820],\n",
       "          ...,\n",
       "          [ 0.0789,  0.1239,  0.0338,  ..., -0.7166, -0.6565, -0.5665],\n",
       "          [ 0.1089,  0.1089,  0.0789,  ..., -0.6265, -0.7166, -0.6265],\n",
       "          [ 0.1239,  0.1089,  0.0789,  ..., -0.6415, -0.8816, -0.5515]],\n",
       "\n",
       "         [[-0.5559, -0.3853, -0.4137,  ..., -0.8688, -0.8545, -0.8688],\n",
       "          [-0.4564, -0.4422, -0.4848,  ..., -0.8119, -0.8830, -0.7834],\n",
       "          [-0.5275, -0.4422, -0.3995,  ..., -0.8688, -0.8261, -0.8403],\n",
       "          ...,\n",
       "          [ 1.6055,  1.5771,  1.5629,  ...,  0.8519,  0.7666,  0.8092],\n",
       "          [ 1.6055,  1.6624,  1.6624,  ...,  0.7808,  0.8661,  0.6670],\n",
       "          [ 1.6482,  1.6482,  1.6624,  ...,  0.8377,  0.8945,  0.8234]]]],\n",
       "       device='cuda:0')}"
      ]
     },
     "execution_count": 5,
     "metadata": {},
     "output_type": "execute_result"
    }
   ],
   "source": [
    "inputs"
   ]
  },
  {
   "cell_type": "code",
   "execution_count": 6,
   "metadata": {},
   "outputs": [
    {
     "data": {
      "text/plain": [
       "LlavaConfig {\n",
       "  \"_name_or_path\": \"show_model/model001\",\n",
       "  \"architectures\": [\n",
       "    \"LlavaForConditionalGeneration\"\n",
       "  ],\n",
       "  \"ignore_index\": -100,\n",
       "  \"image_token_index\": 151646,\n",
       "  \"model_type\": \"llava\",\n",
       "  \"pad_token_id\": 151643,\n",
       "  \"projector_hidden_act\": \"gelu\",\n",
       "  \"text_config\": {\n",
       "    \"_name_or_path\": \"/root/autodl-tmp/Models/Qwen1.5-4B-Chat\",\n",
       "    \"architectures\": [\n",
       "      \"Qwen2ForCausalLM\"\n",
       "    ],\n",
       "    \"bos_token_id\": 151643,\n",
       "    \"eos_token_id\": 151645,\n",
       "    \"hidden_size\": 2560,\n",
       "    \"intermediate_size\": 6912,\n",
       "    \"max_position_embeddings\": 32768,\n",
       "    \"max_window_layers\": 21,\n",
       "    \"model_type\": \"qwen2\",\n",
       "    \"num_attention_heads\": 20,\n",
       "    \"num_hidden_layers\": 40,\n",
       "    \"num_key_value_heads\": 20,\n",
       "    \"rope_theta\": 5000000.0,\n",
       "    \"sliding_window\": 32768,\n",
       "    \"torch_dtype\": \"bfloat16\",\n",
       "    \"use_sliding_window\": false,\n",
       "    \"vocab_size\": 151936\n",
       "  },\n",
       "  \"torch_dtype\": \"float32\",\n",
       "  \"transformers_version\": \"4.42.3\",\n",
       "  \"vision_config\": {\n",
       "    \"dropout\": 0.0,\n",
       "    \"hidden_size\": 1024,\n",
       "    \"image_size\": 336,\n",
       "    \"intermediate_size\": 4096,\n",
       "    \"model_type\": \"clip_vision_model\",\n",
       "    \"num_attention_heads\": 16,\n",
       "    \"num_hidden_layers\": 24,\n",
       "    \"patch_size\": 14,\n",
       "    \"projection_dim\": 768\n",
       "  },\n",
       "  \"vision_feature_layer\": -2,\n",
       "  \"vision_feature_select_strategy\": \"default\"\n",
       "}"
      ]
     },
     "execution_count": 6,
     "metadata": {},
     "output_type": "execute_result"
    }
   ],
   "source": [
    "model.config"
   ]
  },
  {
   "cell_type": "code",
   "execution_count": null,
   "metadata": {},
   "outputs": [],
   "source": []
  }
 ],
 "metadata": {
  "kernelspec": {
   "display_name": "llama_train",
   "language": "python",
   "name": "python3"
  },
  "language_info": {
   "codemirror_mode": {
    "name": "ipython",
    "version": 3
   },
   "file_extension": ".py",
   "mimetype": "text/x-python",
   "name": "python",
   "nbconvert_exporter": "python",
   "pygments_lexer": "ipython3",
   "version": "3.10.14"
  }
 },
 "nbformat": 4,
 "nbformat_minor": 2
}
